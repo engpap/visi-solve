{
 "cells": [
  {
   "cell_type": "markdown",
   "metadata": {},
   "source": [
    "# Using Morphological Transformations to Remove Lines "
   ]
  },
  {
   "cell_type": "code",
   "execution_count": 103,
   "metadata": {},
   "outputs": [],
   "source": [
    "import matplotlib.pyplot as plt\n",
    "import numpy as np\n",
    "import cv2"
   ]
  },
  {
   "cell_type": "code",
   "execution_count": 104,
   "metadata": {},
   "outputs": [],
   "source": [
    "# Create a 9x9 kernel, can also use np.ones()\n",
    "# kernel = cv2.getStructuringElement(cv2.MORPH_RECT, (9, 9))\n",
    "\n",
    "# Some morphology operators\n",
    "# https://docs.opencv.org/3.4/db/df6/tutorial_erosion_dilatation.html \n",
    "# https://docs.opencv.org/3.4/d3/dbe/tutorial_opening_closing_hats.html\n",
    "    "
   ]
  },
  {
   "cell_type": "code",
   "execution_count": 105,
   "metadata": {},
   "outputs": [],
   "source": [
    "def remove_shadows(img):\n",
    "    # Generate the shadow of the image\n",
    "    # Create a 9x9 kernel, can also use np.ones()\n",
    "    kernel = cv2.getStructuringElement(cv2.MORPH_RECT, (9, 9))\n",
    "\n",
    "    # Some morphology operators\n",
    "    # https://docs.opencv.org/3.4/db/df6/tutorial_erosion_dilatation.html \n",
    "    # https://docs.opencv.org/3.4/d3/dbe/tutorial_opening_closing_hats.html\n",
    "    shadow = cv2.dilate(img, kernel) # Make the background bleed into the text to cover it up\n",
    "\n",
    "    # Filtering\n",
    "    # https://docs.opencv.org/3.4/dc/dd3/tutorial_gausian_median_blur_bilateral_filter.html\n",
    "    shadow = cv2.medianBlur(shadow, 21) # Use a median filter to cover up the text entirely (there may still be particles in the text), now we have an image with only the shadow\n",
    "\n",
    "    res = 255 - cv2.absdiff(img, shadow) # Remove the shadow from the original image\n",
    "    return res"
   ]
  },
  {
   "cell_type": "code",
   "execution_count": 106,
   "metadata": {},
   "outputs": [],
   "source": [
    "def adaptive_clean(img_path, load=True, mode='otsu'):\n",
    "    # Load image\n",
    "    if load:\n",
    "        img = cv2.imread(img_path, cv2.IMREAD_GRAYSCALE).astype(np.uint8)\n",
    "    else:\n",
    "        img = img_path\n",
    "\n",
    "    # Convert to grayscale and apply Otsu's binarization for noise reduction\n",
    "    # https://docs.opencv.org/3.4/d7/d4d/tutorial_py_thresholding.html\n",
    "    img = cv2.GaussianBlur(img,(5,5),0)\n",
    "    if mode == 'otsu':\n",
    "        _, img = cv2.threshold(img,0,255,cv2.THRESH_BINARY | cv2.THRESH_OTSU)\n",
    "    # or you can use gaussian/mean adaptive thresholding\n",
    "    elif mode == 'mean':\n",
    "        img = cv2.adaptiveThreshold(img, 255, cv2.ADAPTIVE_THRESH_MEAN_C, cv2.THRESH_BINARY,11,2)\n",
    "    elif mode == 'gaussian':\n",
    "        img = cv2.adaptiveThreshold(img, 255, cv2.ADAPTIVE_THRESH_GAUSSIAN_C, cv2.THRESH_BINARY,11,2)\n",
    "\n",
    "    img = 255 - img\n",
    "\n",
    "    # Can also apply some morphological transformations\n",
    "    # https://opencv24-python-tutorials.readthedocs.io/en/latest/py_tutorials/py_imgproc/py_morphological_ops/py_morphological_ops.html\n",
    "    \n",
    "    # Apply morphological transformations to fill in holes in the symbols\n",
    "    kernel = np.ones((3, 3), dtype=np.uint8) # or you can use cv2.getStructuringElement()\n",
    "    img = cv2.morphologyEx(img, cv2.MORPH_OPEN, kernel)\n",
    "    return img\n"
   ]
  },
  {
   "cell_type": "code",
   "execution_count": 115,
   "metadata": {},
   "outputs": [
    {
     "data": {
      "text/plain": [
       "<matplotlib.image.AxesImage at 0x7f4ef9b28a90>"
      ]
     },
     "execution_count": 115,
     "metadata": {},
     "output_type": "execute_result"
    },
    {
     "data": {
      "image/png": "[encoded data removed]",
      "text/plain": [
       "<Figure size 640x480 with 1 Axes>"
      ]
     },
     "metadata": {},
     "output_type": "display_data"
    }
   ],
   "source": [
    "img = cv2.imread('../equation-dataset/dark-background/5.png', cv2.IMREAD_GRAYSCALE).astype(np.uint8)\n",
    "# img = cv2.imread('../equation-dataset/03_eq.png', cv2.IMREAD_GRAYSCALE).astype(np.uint8)\n",
    "img = remove_shadows(img)\n",
    "\n",
    "# As long as the lines aren't thick, we can remove the background lines\n",
    "kernel = cv2.getStructuringElement(cv2.MORPH_RECT, (7, 7))\n",
    "img = cv2.erode(img, kernel, iterations=1)\n",
    "\n",
    "img = adaptive_clean(img, load=False)\n",
    "# kernel = cv2.getStructuringElement(cv2.MORPH_RECT, (7, 7))\n",
    "# mask = cv2.erode(img, kernel, iterations=1)\n",
    "# mask = 255 - adaptive_clean(mask, load=False)\n",
    "\n",
    "# img = 255 - adaptive_clean(img, load=False)\n",
    "# plt.axis('off')\n",
    "# plt.imshow(img, cmap='gray')\n",
    "# h, w = img.shape\n",
    "# res = np.zeros((h, w))\n",
    "# res[res == 0] = 255\n",
    "# for x in range(w):\n",
    "#     for y in range(h):\n",
    "#         if mask[y][x] == 0 and img[y][x] == 0:\n",
    "#             res[y][x] = 0\n",
    "\n",
    "plt.axis('off')\n",
    "plt.imshow(img, cmap='gray')"
   ]
  },
  {
   "cell_type": "markdown",
   "metadata": {},
   "source": [
    "# Example pipeline"
   ]
  },
  {
   "cell_type": "code",
   "execution_count": 116,
   "metadata": {},
   "outputs": [],
   "source": [
    "def clean_image(img_path, load=True):\n",
    "    if load:\n",
    "        img = cv2.imread(img_path, cv2.IMREAD_GRAYSCALE).astype(np.uint8)\n",
    "    else:\n",
    "        img = img_path\n",
    "\n",
    "    # img = cv2.GaussianBlur(img, (3, 3), 0)\n",
    "    img = remove_shadows(img)\n",
    "\n",
    "    # As long as the lines aren't thick, we can remove the background lines\n",
    "    kernel = cv2.getStructuringElement(cv2.MORPH_RECT, (3, 3))\n",
    "    img = cv2.erode(img, kernel, iterations=1)\n",
    "\n",
    "    img = adaptive_clean(img, load=False)\n",
    "\n",
    "    # Masking method, choose all pixels within the mask to be a part of the result\n",
    "    # mask = cv2.erode(img, kernel, iterations=1)\n",
    "\n",
    "    # mask = 255 - adaptive_clean(mask, load=False)\n",
    "\n",
    "    # img = 255 - adaptive_clean(img, load=False)\n",
    "\n",
    "    # h, w = img.shape\n",
    "    # res = np.zeros((h, w))\n",
    "    # res[res == 0] = 255\n",
    "    # for x in range(w):\n",
    "    #     for y in range(h):\n",
    "    #         if mask[y][x] == 0 and img[y][x] == 0:\n",
    "    #             res[y][x] = 0\n",
    "\n",
    "    # kernel = cv2.getStructuringElement(cv2.MORPH_RECT, (3, 3))\n",
    "    # img = cv2.erode(img, kernel, iterations=1)\n",
    "\n",
    "    return 255 - img"
   ]
  },
  {
   "cell_type": "code",
   "execution_count": 117,
   "metadata": {},
   "outputs": [
    {
     "data": {
      "text/plain": [
       "<matplotlib.image.AxesImage at 0x7f4ef9a18a30>"
      ]
     },
     "execution_count": 117,
     "metadata": {},
     "output_type": "execute_result"
    },
    {
     "data": {
      "image/png": "[encoded data removed]",
      "text/plain": [
       "<Figure size 640x480 with 1 Axes>"
      ]
     },
     "metadata": {},
     "output_type": "display_data"
    }
   ],
   "source": [
    "img = clean_image('../equation-dataset/dark-background/7.png', load=True)\n",
    "plt.axis('off')\n",
    "plt.imshow(img, cmap='gray')"
   ]
  },
  {
   "cell_type": "code",
   "execution_count": 110,
   "metadata": {},
   "outputs": [
    {
     "data": {
      "image/png": "[encoded data removed]",
      "text/plain": [
       "<Figure size 640x480 with 1 Axes>"
      ]
     },
     "metadata": {},
     "output_type": "display_data"
    }
   ],
   "source": [
    "img = clean_image('../equation-dataset/01_eq.png', load=True)\n",
    "plt.axis('off')\n",
    "plt.imshow(img, cmap='gray')\n",
    "closing = cv2.morphologyEx(img, cv2.MORPH_CLOSE, kernel)"
   ]
  }
 ],
 "metadata": {
  "kernelspec": {
   "display_name": "Python 3",
   "language": "python",
   "name": "python3"
  },
  "language_info": {
   "codemirror_mode": {
    "name": "ipython",
    "version": 3
   },
   "file_extension": ".py",
   "mimetype": "text/x-python",
   "name": "python",
   "nbconvert_exporter": "python",
   "pygments_lexer": "ipython3",
   "version": "3.9.2"
  }
 },
 "nbformat": 4,
 "nbformat_minor": 2
}
