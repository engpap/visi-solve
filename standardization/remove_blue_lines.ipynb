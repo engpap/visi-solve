{
 "cells": [
  {
   "cell_type": "markdown",
   "metadata": {},
   "source": [
    "# Morphological Transformations"
   ]
  },
  {
   "cell_type": "code",
   "execution_count": null,
   "metadata": {},
   "outputs": [],
   "source": [
    "import matplotlib.pyplot as plt\n",
    "import numpy as np\n",
    "import cv2"
   ]
  },
  {
   "cell_type": "code",
   "execution_count": null,
   "metadata": {},
   "outputs": [],
   "source": [
    "# Create a 9x9 kernel, can also use np.ones()\n",
    "# kernel = cv2.getStructuringElement(cv2.MORPH_RECT, (9, 9))\n",
    "\n",
    "# Some morphology operators\n",
    "# https://docs.opencv.org/3.4/db/df6/tutorial_erosion_dilatation.html \n",
    "# https://docs.opencv.org/3.4/d3/dbe/tutorial_opening_closing_hats.html\n",
    "    "
   ]
  },
  {
   "cell_type": "code",
   "execution_count": null,
   "metadata": {},
   "outputs": [],
   "source": []
  }
 ],
 "metadata": {
  "language_info": {
   "name": "python"
  }
 },
 "nbformat": 4,
 "nbformat_minor": 2
}
