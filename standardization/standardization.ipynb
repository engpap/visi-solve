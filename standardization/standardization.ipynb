{
 "cells": [
  {
   "cell_type": "code",
   "execution_count": 2,
   "metadata": {},
   "outputs": [],
   "source": [
    "import matplotlib.pyplot as plt\n",
    "import numpy as np\n",
    "import cv2"
   ]
  },
  {
   "cell_type": "markdown",
   "metadata": {},
   "source": [
    "# Blur image, Threshold"
   ]
  },
  {
   "cell_type": "code",
   "execution_count": 3,
   "metadata": {},
   "outputs": [],
   "source": [
    "def mean_threshold(img, display=True):\n",
    "    mean = np.mean(img)\n",
    "\n",
    "    img[img >= mean] = 255\n",
    "    img[img < mean] = 0\n",
    "\n",
    "    if display:\n",
    "        plt.figure(figsize = [10, 10])\n",
    "        plt.axis('off')\n",
    "        plt.imshow(img, cmap=\"gray\")\n",
    "\n",
    "    return img"
   ]
  },
  {
   "cell_type": "code",
   "execution_count": 4,
   "metadata": {},
   "outputs": [],
   "source": [
    "def threshold(img, threshold=0.5):\n",
    "    img[img >= threshold] = 1\n",
    "    img[img < threshold] = 0\n",
    "\n",
    "    return img\n",
    "    "
   ]
  },
  {
   "cell_type": "code",
   "execution_count": 5,
   "metadata": {},
   "outputs": [],
   "source": [
    "def clean_img(img_path):\n",
    "    img = cv2.imread(img_path)\n",
    "\n",
    "    img = cv2.cvtColor(img, cv2.COLOR_BGR2GRAY)\n",
    "    # https://docs.opencv.org/4.x/d5/daf/tutorial_py_histogram_equalization.html\n",
    "    # clahe = cv2.createCLAHE(clipLimit=200.0, tileGridSize=(4,4))\n",
    "    # img = clahe.apply(img)\n",
    "\n",
    "    for _ in range(5):\n",
    "        img = cv2.blur(img, (10, 10))\n",
    "        mean_threshold(img)\n",
    "\n",
    "    return img "
   ]
  },
  {
   "cell_type": "code",
   "execution_count": 7,
   "metadata": {},
   "outputs": [
    {
     "name": "stderr",
     "output_type": "stream",
     "text": [
      "[ WARN:0@7.149] global /private/var/folders/k1/30mswbxs7r1g6zwn8y4fyt500000gp/T/abs_11nitadzeg/croot/opencv-suite_1691620374638/work/modules/imgcodecs/src/loadsave.cpp (239) findDecoder imread_('../dataset/handwritten_operators/plus/plus 2.png'): can't open/read file: check file path/integrity\n"
     ]
    },
    {
     "ename": "error",
     "evalue": "OpenCV(4.6.0) /private/var/folders/k1/30mswbxs7r1g6zwn8y4fyt500000gp/T/abs_11nitadzeg/croot/opencv-suite_1691620374638/work/modules/imgproc/src/color.cpp:182: error: (-215:Assertion failed) !_src.empty() in function 'cvtColor'\n",
     "output_type": "error",
     "traceback": [
      "\u001b[0;31m---------------------------------------------------------------------------\u001b[0m",
      "\u001b[0;31merror\u001b[0m                                     Traceback (most recent call last)",
      "\u001b[1;32m/Users/dre/Dev/visi-solve/visi-solve/standardization/standardization.ipynb Cell 6\u001b[0m line \u001b[0;36m1\n\u001b[0;32m----> <a href='vscode-notebook-cell:/Users/dre/Dev/visi-solve/visi-solve/standardization/standardization.ipynb#W5sZmlsZQ%3D%3D?line=0'>1</a>\u001b[0m img \u001b[39m=\u001b[39m clean_img(\u001b[39m'\u001b[39;49m\u001b[39m../dataset/handwritten_operators/plus/plus 2.png\u001b[39;49m\u001b[39m'\u001b[39;49m)\n\u001b[1;32m      <a href='vscode-notebook-cell:/Users/dre/Dev/visi-solve/visi-solve/standardization/standardization.ipynb#W5sZmlsZQ%3D%3D?line=1'>2</a>\u001b[0m plt\u001b[39m.\u001b[39maxis(\u001b[39m'\u001b[39m\u001b[39moff\u001b[39m\u001b[39m'\u001b[39m)\n\u001b[1;32m      <a href='vscode-notebook-cell:/Users/dre/Dev/visi-solve/visi-solve/standardization/standardization.ipynb#W5sZmlsZQ%3D%3D?line=2'>3</a>\u001b[0m plt\u001b[39m.\u001b[39mimshow(img, cmap\u001b[39m=\u001b[39m\u001b[39m'\u001b[39m\u001b[39mgray\u001b[39m\u001b[39m'\u001b[39m)\n",
      "\u001b[1;32m/Users/dre/Dev/visi-solve/visi-solve/standardization/standardization.ipynb Cell 6\u001b[0m line \u001b[0;36m4\n\u001b[1;32m      <a href='vscode-notebook-cell:/Users/dre/Dev/visi-solve/visi-solve/standardization/standardization.ipynb#W5sZmlsZQ%3D%3D?line=0'>1</a>\u001b[0m \u001b[39mdef\u001b[39;00m \u001b[39mclean_img\u001b[39m(img_path):\n\u001b[1;32m      <a href='vscode-notebook-cell:/Users/dre/Dev/visi-solve/visi-solve/standardization/standardization.ipynb#W5sZmlsZQ%3D%3D?line=1'>2</a>\u001b[0m     img \u001b[39m=\u001b[39m cv2\u001b[39m.\u001b[39mimread(img_path)\n\u001b[0;32m----> <a href='vscode-notebook-cell:/Users/dre/Dev/visi-solve/visi-solve/standardization/standardization.ipynb#W5sZmlsZQ%3D%3D?line=3'>4</a>\u001b[0m     img \u001b[39m=\u001b[39m cv2\u001b[39m.\u001b[39;49mcvtColor(img, cv2\u001b[39m.\u001b[39;49mCOLOR_BGR2GRAY)\n\u001b[1;32m      <a href='vscode-notebook-cell:/Users/dre/Dev/visi-solve/visi-solve/standardization/standardization.ipynb#W5sZmlsZQ%3D%3D?line=4'>5</a>\u001b[0m     \u001b[39m# https://docs.opencv.org/4.x/d5/daf/tutorial_py_histogram_equalization.html\u001b[39;00m\n\u001b[1;32m      <a href='vscode-notebook-cell:/Users/dre/Dev/visi-solve/visi-solve/standardization/standardization.ipynb#W5sZmlsZQ%3D%3D?line=5'>6</a>\u001b[0m     \u001b[39m# clahe = cv2.createCLAHE(clipLimit=200.0, tileGridSize=(4,4))\u001b[39;00m\n\u001b[1;32m      <a href='vscode-notebook-cell:/Users/dre/Dev/visi-solve/visi-solve/standardization/standardization.ipynb#W5sZmlsZQ%3D%3D?line=6'>7</a>\u001b[0m     \u001b[39m# img = clahe.apply(img)\u001b[39;00m\n\u001b[1;32m      <a href='vscode-notebook-cell:/Users/dre/Dev/visi-solve/visi-solve/standardization/standardization.ipynb#W5sZmlsZQ%3D%3D?line=8'>9</a>\u001b[0m     \u001b[39mfor\u001b[39;00m _ \u001b[39min\u001b[39;00m \u001b[39mrange\u001b[39m(\u001b[39m5\u001b[39m):\n",
      "\u001b[0;31merror\u001b[0m: OpenCV(4.6.0) /private/var/folders/k1/30mswbxs7r1g6zwn8y4fyt500000gp/T/abs_11nitadzeg/croot/opencv-suite_1691620374638/work/modules/imgproc/src/color.cpp:182: error: (-215:Assertion failed) !_src.empty() in function 'cvtColor'\n"
     ]
    }
   ],
   "source": [
    "img = clean_img('../dataset/handwritten_operators/plus/plus 2.png')\n",
    "plt.axis('off')\n",
    "plt.imshow(img, cmap='gray')"
   ]
  },
  {
   "cell_type": "code",
   "execution_count": 8,
   "metadata": {},
   "outputs": [],
   "source": [
    "def adaptive_clean(img_path):\n",
    "    # Load image\n",
    "    img = cv2.imread(img_path, cv2.IMREAD_GRAYSCALE).astype(np.uint8)\n",
    "\n",
    "    # Convert to grayscale and apply Otsu's binarization for noise reduction\n",
    "    # https://docs.opencv.org/3.4/d7/d4d/tutorial_py_thresholding.html\n",
    "    # img = cv2.cvtColor(img, cv2.COLOR_BGR2GRAY)\n",
    "    img = cv2.GaussianBlur(img,(5,5),0)\n",
    "    _, img = cv2.threshold(img,0,255,cv2.THRESH_BINARY | cv2.THRESH_OTSU)\n",
    "\n",
    "    #img = 255 - img\n",
    "    return img\n"
   ]
  },
  {
   "cell_type": "code",
   "execution_count": 9,
   "metadata": {},
   "outputs": [
    {
     "name": "stderr",
     "output_type": "stream",
     "text": [
      "[ WARN:0@160.107] global /private/var/folders/k1/30mswbxs7r1g6zwn8y4fyt500000gp/T/abs_11nitadzeg/croot/opencv-suite_1691620374638/work/modules/imgcodecs/src/loadsave.cpp (239) findDecoder imread_('../dataset/handwritten_operators/plus/plus 2.png'): can't open/read file: check file path/integrity\n"
     ]
    },
    {
     "ename": "AttributeError",
     "evalue": "'NoneType' object has no attribute 'astype'",
     "output_type": "error",
     "traceback": [
      "\u001b[0;31m---------------------------------------------------------------------------\u001b[0m",
      "\u001b[0;31mAttributeError\u001b[0m                            Traceback (most recent call last)",
      "\u001b[1;32m/Users/dre/Dev/visi-solve/visi-solve/standardization/standardization.ipynb Cell 8\u001b[0m line \u001b[0;36m1\n\u001b[0;32m----> <a href='vscode-notebook-cell:/Users/dre/Dev/visi-solve/visi-solve/standardization/standardization.ipynb#X10sZmlsZQ%3D%3D?line=0'>1</a>\u001b[0m img \u001b[39m=\u001b[39m adaptive_clean(\u001b[39m'\u001b[39;49m\u001b[39m../dataset/handwritten_operators/plus/plus 2.png\u001b[39;49m\u001b[39m'\u001b[39;49m)\n\u001b[1;32m      <a href='vscode-notebook-cell:/Users/dre/Dev/visi-solve/visi-solve/standardization/standardization.ipynb#X10sZmlsZQ%3D%3D?line=1'>2</a>\u001b[0m \u001b[39mprint\u001b[39m(img\u001b[39m.\u001b[39mshape)\n\u001b[1;32m      <a href='vscode-notebook-cell:/Users/dre/Dev/visi-solve/visi-solve/standardization/standardization.ipynb#X10sZmlsZQ%3D%3D?line=2'>3</a>\u001b[0m plt\u001b[39m.\u001b[39maxis(\u001b[39m'\u001b[39m\u001b[39moff\u001b[39m\u001b[39m'\u001b[39m)\n",
      "\u001b[1;32m/Users/dre/Dev/visi-solve/visi-solve/standardization/standardization.ipynb Cell 8\u001b[0m line \u001b[0;36m3\n\u001b[1;32m      <a href='vscode-notebook-cell:/Users/dre/Dev/visi-solve/visi-solve/standardization/standardization.ipynb#X10sZmlsZQ%3D%3D?line=0'>1</a>\u001b[0m \u001b[39mdef\u001b[39;00m \u001b[39madaptive_clean\u001b[39m(img_path):\n\u001b[1;32m      <a href='vscode-notebook-cell:/Users/dre/Dev/visi-solve/visi-solve/standardization/standardization.ipynb#X10sZmlsZQ%3D%3D?line=1'>2</a>\u001b[0m     \u001b[39m# Load image\u001b[39;00m\n\u001b[0;32m----> <a href='vscode-notebook-cell:/Users/dre/Dev/visi-solve/visi-solve/standardization/standardization.ipynb#X10sZmlsZQ%3D%3D?line=2'>3</a>\u001b[0m     img \u001b[39m=\u001b[39m cv2\u001b[39m.\u001b[39;49mimread(img_path, cv2\u001b[39m.\u001b[39;49mIMREAD_GRAYSCALE)\u001b[39m.\u001b[39;49mastype(np\u001b[39m.\u001b[39muint8)\n\u001b[1;32m      <a href='vscode-notebook-cell:/Users/dre/Dev/visi-solve/visi-solve/standardization/standardization.ipynb#X10sZmlsZQ%3D%3D?line=4'>5</a>\u001b[0m     \u001b[39m# Convert to grayscale and apply Otsu's binarization for noise reduction\u001b[39;00m\n\u001b[1;32m      <a href='vscode-notebook-cell:/Users/dre/Dev/visi-solve/visi-solve/standardization/standardization.ipynb#X10sZmlsZQ%3D%3D?line=5'>6</a>\u001b[0m     \u001b[39m# https://docs.opencv.org/3.4/d7/d4d/tutorial_py_thresholding.html\u001b[39;00m\n\u001b[1;32m      <a href='vscode-notebook-cell:/Users/dre/Dev/visi-solve/visi-solve/standardization/standardization.ipynb#X10sZmlsZQ%3D%3D?line=6'>7</a>\u001b[0m     \u001b[39m# img = cv2.cvtColor(img, cv2.COLOR_BGR2GRAY)\u001b[39;00m\n\u001b[1;32m      <a href='vscode-notebook-cell:/Users/dre/Dev/visi-solve/visi-solve/standardization/standardization.ipynb#X10sZmlsZQ%3D%3D?line=7'>8</a>\u001b[0m     img \u001b[39m=\u001b[39m cv2\u001b[39m.\u001b[39mGaussianBlur(img,(\u001b[39m5\u001b[39m,\u001b[39m5\u001b[39m),\u001b[39m0\u001b[39m)\n",
      "\u001b[0;31mAttributeError\u001b[0m: 'NoneType' object has no attribute 'astype'"
     ]
    }
   ],
   "source": [
    "img = adaptive_clean('../dataset/handwritten_operators/plus/plus 2.png')\n",
    "print(img.shape)\n",
    "plt.axis('off')\n",
    "plt.imshow(img, cmap='gray')"
   ]
  },
  {
   "cell_type": "markdown",
   "metadata": {},
   "source": [
    "# Center the Image"
   ]
  },
  {
   "cell_type": "code",
   "execution_count": null,
   "metadata": {},
   "outputs": [],
   "source": [
    "# img = cv2.imread('./Four_full (16).jpg')\n",
    "# img = cv2.cvtColor(img, cv2.COLOR_BGR2RGB)\n",
    "\n",
    "# h, w = img.shape[:2]\n",
    "# new = np.zeros((h, w, 3), dtype=np.uint8)\n",
    "# new[:, :, :] = img[:, :, :]\n",
    "\n",
    "# plt.axis('off')\n",
    "# plt.imshow(new)"
   ]
  },
  {
   "cell_type": "code",
   "execution_count": null,
   "metadata": {},
   "outputs": [],
   "source": [
    "from math import ceil\n",
    "# Center and square an image\n",
    "def center_img(img):\n",
    "    # Getting the contour\n",
    "    # https://docs.opencv.org/3.4/d4/d73/tutorial_py_contours_begin.html\n",
    "    # contours, hierarchy = cv2.findContours(img, cv2.RETR_EXTERNAL, cv2.CHAIN_APPROX_SIMPLE)\n",
    "    # contours, hierarchy = cv2.findContours(img, cv2.RETR_TREE, cv2.CHAIN_APPROX_SIMPLE)\n",
    "    # print(contours)\n",
    "    # print(hierarchy)\n",
    "    # M = cv2.moments(contours[0])\n",
    "    # cv2.drawContours(img, contours, -1, (0,255,0), 15)\n",
    "    # cX = int(M[\"m10\"] / M[\"m00\"])\n",
    "    # cY = int(M[\"m01\"] / M[\"m00\"])\n",
    "\n",
    "    # tX, tY are translations from center of original image to center of character\n",
    "\n",
    "    # T = np.float32([[1, 0, tX], [0, 1, tY]]) \n",
    "    \n",
    "    # centered = cv2.warpAffine(img, T, (w, h)) \n",
    "\n",
    "    # Assuming the image is clean, choose the bounding box for the symbol\n",
    "    bx, by, bw, bh = cv2.boundingRect(img)\n",
    "    print(bx, by, bw, bh)\n",
    "\n",
    "    dim = max(bw, bh) * 1.05 # width of canvas \n",
    "    x_tl, y_tl = dim / 1.05 * .025, dim / 1.05 * .025 # top left corner\n",
    "\n",
    "    dim = int(dim)\n",
    "    x_tl, y_tl = int(x_tl), int(y_tl)\n",
    "    centered = np.zeros((dim, dim))\n",
    "    \n",
    "    for y in range(by, by + bh + 1):\n",
    "        for x in range(bx, bx + bw + 1):\n",
    "            centered[y - by + y_tl][x - bx + x_tl] = img[y][x]\n",
    "            \n",
    "    return centered"
   ]
  },
  {
   "cell_type": "code",
   "execution_count": null,
   "metadata": {},
   "outputs": [
    {
     "name": "stdout",
     "output_type": "stream",
     "text": [
      "1050 1013 1261 1319\n"
     ]
    },
    {
     "data": {
      "text/plain": [
       "<matplotlib.image.AxesImage at 0x7f4f7f329af0>"
      ]
     },
     "execution_count": 277,
     "metadata": {},
     "output_type": "execute_result"
    },
    {
     "data": {
      "image/png": "[encoded data removed]",
      "text/plain": [
       "<Figure size 640x480 with 1 Axes>"
      ]
     },
     "metadata": {},
     "output_type": "display_data"
    }
   ],
   "source": [
    "centered = center_img(img)\n",
    "plt.axis('off')\n",
    "plt.imshow(centered, cmap='gray')"
   ]
  },
  {
   "cell_type": "markdown",
   "metadata": {},
   "source": [
    "# Rescale the Image"
   ]
  },
  {
   "cell_type": "code",
   "execution_count": null,
   "metadata": {},
   "outputs": [
    {
     "data": {
      "text/plain": [
       "<matplotlib.image.AxesImage at 0x7f4f7c472430>"
      ]
     },
     "execution_count": 285,
     "metadata": {},
     "output_type": "execute_result"
    },
    {
     "data": {
      "image/png": "[encoded data removed]",
      "text/plain": [
       "<Figure size 640x480 with 1 Axes>"
      ]
     },
     "metadata": {},
     "output_type": "display_data"
    }
   ],
   "source": [
    "# need similar padding for all images\n",
    "# same center, scale, thickness\n",
    "\n",
    "def resize_img(img):\n",
    "\n",
    "    # resize = cv2.resize(img, (32, 32), interpolation=cv2.INTER_AREA)\n",
    "    # resize[resize > 0] = 255\n",
    "\n",
    "    resize = cv2.resize(img, (32, 32), interpolation=cv2.INTER_CUBIC)\n",
    "    resize[resize > 0] = 255\n",
    "    return resize\n",
    "\n",
    "resized = resize_img(centered)\n",
    "plt.axis('off')\n",
    "plt.imshow(resized, cmap='gray')"
   ]
  }
 ],
 "metadata": {
  "kernelspec": {
   "display_name": "cs415env",
   "language": "python",
   "name": "python3"
  },
  "language_info": {
   "codemirror_mode": {
    "name": "ipython",
    "version": 3
   },
   "file_extension": ".py",
   "mimetype": "text/x-python",
   "name": "python",
   "nbconvert_exporter": "python",
   "pygments_lexer": "ipython3",
   "version": "3.11.5"
  },
  "orig_nbformat": 4
 },
 "nbformat": 4,
 "nbformat_minor": 2
}
