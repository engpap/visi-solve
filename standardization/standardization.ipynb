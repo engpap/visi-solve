{
 "cells": [
  {
   "cell_type": "code",
   "execution_count": 59,
   "metadata": {},
   "outputs": [],
   "source": [
    "import matplotlib.pyplot as plt\n",
    "import numpy as np\n",
    "import cv2"
   ]
  },
  {
   "cell_type": "markdown",
   "metadata": {},
   "source": [
    "# Blur image, Threshold"
   ]
  },
  {
   "cell_type": "code",
   "execution_count": 60,
   "metadata": {},
   "outputs": [],
   "source": [
    "def mean_threshold(img, display=True):\n",
    "    mean = np.mean(img)\n",
    "\n",
    "    img[img >= mean] = 255\n",
    "    img[img < mean] = 0\n",
    "\n",
    "    if display:\n",
    "        plt.figure(figsize = [10, 10])\n",
    "        plt.axis('off')\n",
    "        plt.imshow(img, cmap=\"gray\")\n",
    "\n",
    "    return img"
   ]
  },
  {
   "cell_type": "code",
   "execution_count": 61,
   "metadata": {},
   "outputs": [],
   "source": [
    "def threshold(img, threshold=0.5):\n",
    "    img[img >= threshold] = 1\n",
    "    img[img < threshold] = 0\n",
    "\n",
    "    return img\n",
    "    "
   ]
  },
  {
   "cell_type": "code",
   "execution_count": 62,
   "metadata": {},
   "outputs": [],
   "source": [
    "def clean_img(img_path):\n",
    "    img = cv2.imread(img_path)\n",
    "\n",
    "    img = cv2.cvtColor(img, cv2.COLOR_BGR2GRAY)\n",
    "\n",
    "    for _ in range(5):\n",
    "        img = cv2.blur(img, (10, 10))\n",
    "        mean_threshold(img)\n",
    "\n",
    "    return img "
   ]
  },
  {
   "cell_type": "code",
   "execution_count": 63,
   "metadata": {},
   "outputs": [],
   "source": [
    "# img = clean_img('../dataset/handwritten_operators/plus/plus 2.png')\n",
    "# plt.axis('off')\n",
    "# plt.imshow(img, cmap='gray')"
   ]
  },
  {
   "cell_type": "code",
   "execution_count": 64,
   "metadata": {},
   "outputs": [],
   "source": [
    "def adaptive_clean(img_path, load=True, mode='otsu'):\n",
    "    # Load image\n",
    "    if load:\n",
    "        img = cv2.imread(img_path, cv2.IMREAD_GRAYSCALE).astype(np.uint8)\n",
    "    else:\n",
    "        img = img_path\n",
    "\n",
    "    # Convert to grayscale and apply Otsu's binarization for noise reduction\n",
    "    # https://docs.opencv.org/3.4/d7/d4d/tutorial_py_thresholding.html\n",
    "    img = cv2.GaussianBlur(img,(5,5),0)\n",
    "    if mode == 'otsu':\n",
    "        _, img = cv2.threshold(img,0,255,cv2.THRESH_BINARY | cv2.THRESH_OTSU)\n",
    "    # or you can use gaussian/mean adaptive thresholding\n",
    "    elif mode == 'mean':\n",
    "        img = cv2.adaptiveThreshold(img, 255, cv2.ADAPTIVE_THRESH_MEAN_C, cv2.THRESH_BINARY,11,2)\n",
    "    elif mode == 'gaussian':\n",
    "        img = cv2.adaptiveThreshold(img, 255, cv2.ADAPTIVE_THRESH_GAUSSIAN_C, cv2.THRESH_BINARY,11,2)\n",
    "\n",
    "    img = 255 - img\n",
    "\n",
    "    # Can also apply some morphological transformations\n",
    "    # https://opencv24-python-tutorials.readthedocs.io/en/latest/py_tutorials/py_imgproc/py_morphological_ops/py_morphological_ops.html\n",
    "    kernel = np.ones((3, 3), dtype=np.uint8) # or you can use cv2.getStructuringElement()\n",
    "    img = cv2.morphologyEx(img, cv2.MORPH_OPEN, kernel)\n",
    "    return img\n"
   ]
  },
  {
   "cell_type": "code",
   "execution_count": 65,
   "metadata": {},
   "outputs": [
    {
     "name": "stdout",
     "output_type": "stream",
     "text": [
      "(135, 155)\n"
     ]
    },
    {
     "data": {
      "text/plain": [
       "<matplotlib.image.AxesImage at 0x7f0f71d845e0>"
      ]
     },
     "execution_count": 65,
     "metadata": {},
     "output_type": "execute_result"
    },
    {
     "data": {
      "image/png": "[encoded data removed]",
      "text/plain": [
       "<Figure size 640x480 with 1 Axes>"
      ]
     },
     "metadata": {},
     "output_type": "display_data"
    }
   ],
   "source": [
    "img = adaptive_clean('./standardization_symbols/dataset1_div_20.jpg')\n",
    "print(img.shape)\n",
    "plt.axis('off')\n",
    "plt.imshow(img, cmap='gray')"
   ]
  },
  {
   "cell_type": "markdown",
   "metadata": {},
   "source": [
    "# Center the Image"
   ]
  },
  {
   "cell_type": "code",
   "execution_count": 66,
   "metadata": {},
   "outputs": [],
   "source": [
    "# img = cv2.imread('./Four_full (16).jpg')\n",
    "# img = cv2.cvtColor(img, cv2.COLOR_BGR2RGB)\n",
    "\n",
    "# h, w = img.shape[:2]\n",
    "# new = np.zeros((h, w, 3), dtype=np.uint8)\n",
    "# new[:, :, :] = img[:, :, :]\n",
    "\n",
    "# plt.axis('off')\n",
    "# plt.imshow(new)"
   ]
  },
  {
   "cell_type": "code",
   "execution_count": 67,
   "metadata": {},
   "outputs": [],
   "source": [
    "from math import ceil\n",
    "# Center and square an image\n",
    "def center_img(img):\n",
    "    # Assuming the image is clean, choose the bounding box for the symbol\n",
    "    bx, by, bw, bh = cv2.boundingRect(img)\n",
    "    print(bx, by, bw, bh)\n",
    "\n",
    "    dim = max(bw, bh) * 1.05 # width of canvas \n",
    "    x_tl, y_tl = dim / 1.05 / 2 - bw / 2 + dim / 1.05 * .025, dim / 1.05 / 2 - bh / 2 + dim / 1.05 * .025 # top left corner\n",
    "\n",
    "    dim = ceil(dim)\n",
    "    x_tl, y_tl = int(x_tl), int(y_tl)\n",
    "    centered = np.zeros((dim, dim))\n",
    "\n",
    "    for y in range(by, by + bh):\n",
    "        for x in range(bx, bx + bw):\n",
    "            centered[y - by + y_tl][x - bx + x_tl] = img[y][x]\n",
    "            \n",
    "    return centered"
   ]
  },
  {
   "cell_type": "code",
   "execution_count": 68,
   "metadata": {},
   "outputs": [
    {
     "name": "stdout",
     "output_type": "stream",
     "text": [
      "13 33 112 85\n"
     ]
    },
    {
     "data": {
      "text/plain": [
       "<matplotlib.image.AxesImage at 0x7f0f71d495e0>"
      ]
     },
     "execution_count": 68,
     "metadata": {},
     "output_type": "execute_result"
    },
    {
     "data": {
      "image/png": "[encoded data removed]",
      "text/plain": [
       "<Figure size 640x480 with 1 Axes>"
      ]
     },
     "metadata": {},
     "output_type": "display_data"
    }
   ],
   "source": [
    "centered = center_img(img)\n",
    "plt.axis('off')\n",
    "plt.imshow(centered, cmap='gray')"
   ]
  },
  {
   "cell_type": "markdown",
   "metadata": {},
   "source": [
    "# Rescale the Image"
   ]
  },
  {
   "cell_type": "code",
   "execution_count": 69,
   "metadata": {},
   "outputs": [
    {
     "data": {
      "text/plain": [
       "<matplotlib.image.AxesImage at 0x7f0f9063cc10>"
      ]
     },
     "execution_count": 69,
     "metadata": {},
     "output_type": "execute_result"
    },
    {
     "data": {
      "image/png": "[encoded data removed]",
      "text/plain": [
       "<Figure size 640x480 with 1 Axes>"
      ]
     },
     "metadata": {},
     "output_type": "display_data"
    }
   ],
   "source": [
    "# need similar padding for all images\n",
    "# same center, scale, thickness\n",
    "\n",
    "def resize_img(img, dim=28):\n",
    "\n",
    "    resize = cv2.resize(img, (dim, dim), interpolation=cv2.INTER_AREA)\n",
    "    # resize = cv2.resize(img, (dim, dim), interpolation=cv2.INTER_NEAREST)\n",
    "    # resize = cv2.resize(img, (dim, dim), interpolation=cv2.INTER_CUBIC)\n",
    "\n",
    "    resize[resize > 0] = 100\n",
    "    resize[resize < 100] = 255\n",
    "    resize[resize == 100] = 0\n",
    "\n",
    "    return resize\n",
    "\n",
    "resized = resize_img(centered)\n",
    "plt.axis('off')\n",
    "plt.imshow(resized, cmap='gray')"
   ]
  },
  {
   "cell_type": "markdown",
   "metadata": {},
   "source": [
    "# Removing shadows, hist-eq"
   ]
  },
  {
   "cell_type": "code",
   "execution_count": 70,
   "metadata": {},
   "outputs": [],
   "source": [
    "def remove_shadows(img):\n",
    "    # Generate the shadow of the image\n",
    "    # Create a 9x9 kernel, can also use np.ones()\n",
    "    kernel = cv2.getStructuringElement(cv2.MORPH_RECT, (9, 9))\n",
    "\n",
    "    # Some morphology operators\n",
    "    # https://docs.opencv.org/3.4/db/df6/tutorial_erosion_dilatation.html \n",
    "    # https://docs.opencv.org/3.4/d3/dbe/tutorial_opening_closing_hats.html\n",
    "    shadow = cv2.dilate(img, kernel) # Make the background bleed into the text to cover it up\n",
    "\n",
    "    # Filtering\n",
    "    # https://docs.opencv.org/3.4/dc/dd3/tutorial_gausian_median_blur_bilateral_filter.html\n",
    "    shadow = cv2.medianBlur(shadow, 21) # Use a median filter to cover up the text entirely (there may still be particles in the text), now we have an image with only the shadow\n",
    "\n",
    "    res = 255 - cv2.absdiff(img, shadow) # Remove the shadow from the original image\n",
    "    return res"
   ]
  },
  {
   "cell_type": "code",
   "execution_count": 71,
   "metadata": {},
   "outputs": [
    {
     "data": {
      "text/plain": [
       "<matplotlib.image.AxesImage at 0x7f0f71da3430>"
      ]
     },
     "execution_count": 71,
     "metadata": {},
     "output_type": "execute_result"
    },
    {
     "data": {
      "image/png": "[encoded data removed]",
      "text/plain": [
       "<Figure size 640x480 with 1 Axes>"
      ]
     },
     "metadata": {},
     "output_type": "display_data"
    }
   ],
   "source": [
    "# from cv2 import dnn_superres\n",
    "img = cv2.imread('../equation-dataset/dark-background/6.png', cv2.IMREAD_GRAYSCALE).astype(np.uint8)\n",
    "img = remove_shadows(img)\n",
    "kernel = cv2.getStructuringElement(cv2.MORPH_RECT, (3, 3))\n",
    "img = cv2.erode(img, kernel, iterations=1)\n",
    "# upsampling may improve results\n",
    "# https://docs.opencv.org/4.x/d5/d29/tutorial_dnn_superres_upscale_image_single.html\n",
    "# sr = dnn_superres.DnnSuperResImpl_create()\n",
    "# sr.readModel(\"./FSRCNN_x2.pb\")\n",
    "# sr.setModel(\"fsrcnn\", 2)\n",
    "# img = sr.upsample(img)\n",
    "# CLAHE\n",
    "# https://docs.opencv.org/4.x/d5/daf/tutorial_py_histogram_equalization.html\n",
    "# clahe = cv2.createCLAHE(clipLimit=25.0, tileGridSize=(14,7))\n",
    "# img = clahe.apply(img)\n",
    "# Clean\n",
    "img = adaptive_clean(img, load=False)\n",
    "\n",
    "plt.axis('off')\n",
    "plt.imshow(img, cmap='gray')"
   ]
  },
  {
   "cell_type": "markdown",
   "metadata": {},
   "source": [
    "# All together"
   ]
  },
  {
   "cell_type": "code",
   "execution_count": 72,
   "metadata": {},
   "outputs": [],
   "source": [
    "def standardize(img_path):\n",
    "    img = adaptive_clean(img_path)\n",
    "    img = center_img(img)\n",
    "    img = resize_img(img)\n",
    "    return img"
   ]
  },
  {
   "cell_type": "code",
   "execution_count": 73,
   "metadata": {},
   "outputs": [
    {
     "name": "stdout",
     "output_type": "stream",
     "text": [
      "['1.png', '2.png', '3.png', '4.png', '5.png', '6.png']\n"
     ]
    }
   ],
   "source": [
    "import os\n",
    "print(os.listdir('../test_data_01'))"
   ]
  },
  {
   "cell_type": "code",
   "execution_count": 74,
   "metadata": {},
   "outputs": [
    {
     "name": "stdout",
     "output_type": "stream",
     "text": [
      "255\n"
     ]
    }
   ],
   "source": [
    "print(np.max(img))"
   ]
  },
  {
   "cell_type": "code",
   "execution_count": 75,
   "metadata": {},
   "outputs": [
    {
     "name": "stdout",
     "output_type": "stream",
     "text": [
      "148 146 59 95\n",
      "154 152 64 83\n",
      "155 152 62 83\n",
      "154 152 61 83\n",
      "28 27 169 334\n",
      "36 35 249 318\n",
      "31 30 152 328\n",
      "31 30 215 328\n",
      "33 32 275 324\n",
      "34 33 218 322\n",
      "33 32 245 324\n",
      "33 40 42 81\n"
     ]
    },
    {
     "name": "stdout",
     "output_type": "stream",
     "text": [
      "962 1047 1196 1277\n"
     ]
    },
    {
     "data": {
      "image/png": "[encoded data removed]",
      "text/plain": [
       "<Figure size 2000x1500 with 13 Axes>"
      ]
     },
     "metadata": {},
     "output_type": "display_data"
    }
   ],
   "source": [
    "fig = plt.figure(figsize=(20, 15))\n",
    "i = 0\n",
    "for image in os.listdir('./standardization_symbols/')[1:]:\n",
    "    resized = standardize(os.path.join('./standardization_symbols/', image))\n",
    "    ax = fig.add_subplot(1, 15, i+1)\n",
    "    i+=1\n",
    "    ax.axis('off')\n",
    "    plt.imshow(resized, cmap='gray')\n",
    "    plt.imsave(image, resized, cmap='gray')\n",
    "plt.show()"
   ]
  }
 ],
 "metadata": {
  "kernelspec": {
   "display_name": "cs415env",
   "language": "python",
   "name": "python3"
  },
  "language_info": {
   "codemirror_mode": {
    "name": "ipython",
    "version": 3
   },
   "file_extension": ".py",
   "mimetype": "text/x-python",
   "name": "python",
   "nbconvert_exporter": "python",
   "pygments_lexer": "ipython3",
   "version": "3.9.2"
  },
  "orig_nbformat": 4
 },
 "nbformat": 4,
 "nbformat_minor": 2
}
