{
 "cells": [
  {
   "cell_type": "code",
   "execution_count": 109,
   "metadata": {},
   "outputs": [],
   "source": [
    "import matplotlib.pyplot as plt\n",
    "import numpy as np\n",
    "import cv2"
   ]
  },
  {
   "cell_type": "markdown",
   "metadata": {},
   "source": [
    "# Blur image, Threshold"
   ]
  },
  {
   "cell_type": "code",
   "execution_count": 110,
   "metadata": {},
   "outputs": [],
   "source": [
    "def mean_threshold(img, display=True):\n",
    "    mean = np.mean(img)\n",
    "\n",
    "    img[img >= mean] = 255\n",
    "    img[img < mean] = 0\n",
    "\n",
    "    if display:\n",
    "        plt.figure(figsize = [10, 10])\n",
    "        plt.axis('off')\n",
    "        plt.imshow(img, cmap=\"gray\")\n",
    "\n",
    "    return img"
   ]
  },
  {
   "cell_type": "code",
   "execution_count": 111,
   "metadata": {},
   "outputs": [],
   "source": [
    "def threshold(img, threshold=0.5):\n",
    "    img[img >= threshold] = 1\n",
    "    img[img < threshold] = 0\n",
    "\n",
    "    return img\n",
    "    "
   ]
  },
  {
   "cell_type": "code",
   "execution_count": 112,
   "metadata": {},
   "outputs": [],
   "source": [
    "def clean_img(img_path):\n",
    "    img = cv2.imread(img_path)\n",
    "\n",
    "    img = cv2.cvtColor(img, cv2.COLOR_BGR2GRAY)\n",
    "    # https://docs.opencv.org/4.x/d5/daf/tutorial_py_histogram_equalization.html\n",
    "    # clahe = cv2.createCLAHE(clipLimit=200.0, tileGridSize=(4,4))\n",
    "    # img = clahe.apply(img)\n",
    "\n",
    "    for _ in range(5):\n",
    "        img = cv2.blur(img, (10, 10))\n",
    "        mean_threshold(img)\n",
    "\n",
    "    return img "
   ]
  },
  {
   "cell_type": "code",
   "execution_count": 113,
   "metadata": {},
   "outputs": [
    {
     "data": {
      "text/plain": [
       "<matplotlib.image.AxesImage at 0x7f8806cdfa30>"
      ]
     },
     "execution_count": 113,
     "metadata": {},
     "output_type": "execute_result"
    },
    {
     "data": {
      "image/png": "[encoded data removed]",
      "text/plain": [
       "<Figure size 640x480 with 1 Axes>"
      ]
     },
     "metadata": {},
     "output_type": "display_data"
    }
   ],
   "source": [
    "# img = clean_img('../dataset/handwritten_operators/plus/plus 2.png')\n",
    "plt.axis('off')\n",
    "plt.imshow(img, cmap='gray')"
   ]
  },
  {
   "cell_type": "code",
   "execution_count": 114,
   "metadata": {},
   "outputs": [],
   "source": [
    "def adaptive_clean(img_path):\n",
    "    # Load image\n",
    "    img = cv2.imread(img_path, cv2.IMREAD_GRAYSCALE).astype(np.uint8)\n",
    "\n",
    "    # Convert to grayscale and apply Otsu's binarization for noise reduction\n",
    "    # https://docs.opencv.org/3.4/d7/d4d/tutorial_py_thresholding.html\n",
    "    # img = cv2.cvtColor(img, cv2.COLOR_BGR2GRAY)\n",
    "    img = cv2.GaussianBlur(img,(5,5),0)\n",
    "    _, img = cv2.threshold(img,0,255,cv2.THRESH_BINARY | cv2.THRESH_OTSU)\n",
    "\n",
    "    img = 255 - img\n",
    "    return img\n"
   ]
  },
  {
   "cell_type": "code",
   "execution_count": 123,
   "metadata": {},
   "outputs": [
    {
     "name": "stdout",
     "output_type": "stream",
     "text": [
      "(505, 505)\n"
     ]
    },
    {
     "data": {
      "text/plain": [
       "<matplotlib.image.AxesImage at 0x7f88074af4c0>"
      ]
     },
     "execution_count": 123,
     "metadata": {},
     "output_type": "execute_result"
    },
    {
     "data": {
      "image/png": "[encoded data removed]",
      "text/plain": [
       "<Figure size 640x480 with 1 Axes>"
      ]
     },
     "metadata": {},
     "output_type": "display_data"
    }
   ],
   "source": [
    "# img = adaptive_clean('../dataset/handwritten_operators/plus/plus 2.png')\n",
    "# img = adaptive_clean('./slash 2.png')\n",
    "# img = adaptive_clean('../dataset/4/dataset1_4_11.jpg')\n",
    "img = adaptive_clean('../test_data/1.png')\n",
    "print(img.shape)\n",
    "plt.axis('off')\n",
    "plt.imshow(img, cmap='gray')"
   ]
  },
  {
   "cell_type": "markdown",
   "metadata": {},
   "source": [
    "# Center the Image"
   ]
  },
  {
   "cell_type": "code",
   "execution_count": 124,
   "metadata": {},
   "outputs": [],
   "source": [
    "# img = cv2.imread('./Four_full (16).jpg')\n",
    "# img = cv2.cvtColor(img, cv2.COLOR_BGR2RGB)\n",
    "\n",
    "# h, w = img.shape[:2]\n",
    "# new = np.zeros((h, w, 3), dtype=np.uint8)\n",
    "# new[:, :, :] = img[:, :, :]\n",
    "\n",
    "# plt.axis('off')\n",
    "# plt.imshow(new)"
   ]
  },
  {
   "cell_type": "code",
   "execution_count": 125,
   "metadata": {},
   "outputs": [],
   "source": [
    "from math import ceil\n",
    "# Center and square an image\n",
    "def center_img(img):\n",
    "    # Getting the contour\n",
    "    # https://docs.opencv.org/3.4/d4/d73/tutorial_py_contours_begin.html\n",
    "    # contours, hierarchy = cv2.findContours(img, cv2.RETR_EXTERNAL, cv2.CHAIN_APPROX_SIMPLE)\n",
    "    # contours, hierarchy = cv2.findContours(img, cv2.RETR_TREE, cv2.CHAIN_APPROX_SIMPLE)\n",
    "    # print(contours)\n",
    "    # print(hierarchy)\n",
    "    # M = cv2.moments(contours[0])\n",
    "    # cv2.drawContours(img, contours, -1, (0,255,0), 15)\n",
    "    # cX = int(M[\"m10\"] / M[\"m00\"])\n",
    "    # cY = int(M[\"m01\"] / M[\"m00\"])\n",
    "\n",
    "    # tX, tY are translations from center of original image to center of character\n",
    "\n",
    "    # T = np.float32([[1, 0, tX], [0, 1, tY]]) \n",
    "    \n",
    "    # centered = cv2.warpAffine(img, T, (w, h)) \n",
    "\n",
    "    # Assuming the image is clean, choose the bounding box for the symbol\n",
    "    bx, by, bw, bh = cv2.boundingRect(img)\n",
    "    print(bx, by, bw, bh)\n",
    "\n",
    "    dim = max(bw, bh) * 1.05 # width of canvas \n",
    "    x_tl, y_tl = dim / 1.05 * .025, dim / 1.05 * .025 # top left corner\n",
    "\n",
    "    dim = ceil(dim)\n",
    "    x_tl, y_tl = int(x_tl), int(y_tl)\n",
    "    centered = np.zeros((dim, dim))\n",
    "\n",
    "    for y in range(by, by + bh):\n",
    "        for x in range(bx, bx + bw):\n",
    "            centered[y - by + y_tl][x - bx + x_tl] = img[y][x]\n",
    "            \n",
    "    return centered"
   ]
  },
  {
   "cell_type": "code",
   "execution_count": 126,
   "metadata": {},
   "outputs": [
    {
     "name": "stdout",
     "output_type": "stream",
     "text": [
      "205 131 75 241\n"
     ]
    },
    {
     "data": {
      "text/plain": [
       "<matplotlib.image.AxesImage at 0x7f8807144790>"
      ]
     },
     "execution_count": 126,
     "metadata": {},
     "output_type": "execute_result"
    },
    {
     "data": {
      "image/png": "[encoded data removed]",
      "text/plain": [
       "<Figure size 640x480 with 1 Axes>"
      ]
     },
     "metadata": {},
     "output_type": "display_data"
    }
   ],
   "source": [
    "centered = center_img(img)\n",
    "plt.axis('off')\n",
    "plt.imshow(centered, cmap='gray')"
   ]
  },
  {
   "cell_type": "markdown",
   "metadata": {},
   "source": [
    "# Rescale the Image"
   ]
  },
  {
   "cell_type": "code",
   "execution_count": 128,
   "metadata": {},
   "outputs": [
    {
     "data": {
      "text/plain": [
       "<matplotlib.image.AxesImage at 0x7f880748da60>"
      ]
     },
     "execution_count": 128,
     "metadata": {},
     "output_type": "execute_result"
    },
    {
     "data": {
      "image/png": "[encoded data removed]",
      "text/plain": [
       "<Figure size 640x480 with 1 Axes>"
      ]
     },
     "metadata": {},
     "output_type": "display_data"
    }
   ],
   "source": [
    "# need similar padding for all images\n",
    "# same center, scale, thickness\n",
    "\n",
    "def resize_img(img, dim=28):\n",
    "\n",
    "    resize = cv2.resize(img, (dim, dim), interpolation=cv2.INTER_AREA)\n",
    "    # resize = cv2.resize(img, (dim, dim), interpolation=cv2.INTER_CUBIC)\n",
    "\n",
    "    resize[resize > 0] = 100\n",
    "    resize[resize < 100] = 255\n",
    "    resize[resize == 100] = 0\n",
    "\n",
    "    return resize\n",
    "\n",
    "resized = resize_img(centered)\n",
    "plt.axis('off')\n",
    "plt.imshow(resized, cmap='gray')"
   ]
  },
  {
   "cell_type": "markdown",
   "metadata": {},
   "source": [
    "# All together"
   ]
  },
  {
   "cell_type": "code",
   "execution_count": 150,
   "metadata": {},
   "outputs": [],
   "source": [
    "def standardize(img_path):\n",
    "    img = adaptive_clean(img_path)\n",
    "    img = center_img(img)\n",
    "    img = resize_img(img)\n",
    "    return img"
   ]
  },
  {
   "cell_type": "code",
   "execution_count": 133,
   "metadata": {},
   "outputs": [
    {
     "name": "stdout",
     "output_type": "stream",
     "text": [
      "['.DS_Store', '1.png', '10.png', '11.png', '12.png', '13.png', '2.png', '3.png', '4.png', '5.png']\n"
     ]
    }
   ],
   "source": [
    "import os\n",
    "print(os.listdir('../test_data'))"
   ]
  },
  {
   "cell_type": "code",
   "execution_count": 153,
   "metadata": {},
   "outputs": [
    {
     "name": "stdout",
     "output_type": "stream",
     "text": [
      "255\n"
     ]
    }
   ],
   "source": [
    "print(np.max(img))"
   ]
  },
  {
   "cell_type": "code",
   "execution_count": 154,
   "metadata": {},
   "outputs": [
    {
     "name": "stdout",
     "output_type": "stream",
     "text": [
      "205 131 75 241\n",
      "108 117 247 218\n",
      "142 205 125 16\n",
      "145 138 128 132\n",
      "75 75 133 130\n",
      "138 105 166 196\n",
      "151 90 129 248\n",
      "122 78 141 213\n",
      "139 99 106 209\n"
     ]
    },
    {
     "data": {
      "image/png": "[encoded data removed]",
      "text/plain": [
       "<Figure size 2000x1000 with 9 Axes>"
      ]
     },
     "metadata": {},
     "output_type": "display_data"
    }
   ],
   "source": [
    "fig = plt.figure(figsize=(20, 10))\n",
    "i = 0\n",
    "for image in os.listdir('../test_data/')[1:]:\n",
    "    resized = standardize(os.path.join('../test_data/', image))\n",
    "    ax = fig.add_subplot(1, 9, i+1)\n",
    "    i+=1\n",
    "    ax.axis('off')\n",
    "    plt.imshow(resized, cmap='gray')\n",
    "    plt.imsave(\"s \" + image, resized, cmap='gray')\n",
    "plt.show()"
   ]
  }
 ],
 "metadata": {
  "kernelspec": {
   "display_name": "cs415env",
   "language": "python",
   "name": "python3"
  },
  "language_info": {
   "codemirror_mode": {
    "name": "ipython",
    "version": 3
   },
   "file_extension": ".py",
   "mimetype": "text/x-python",
   "name": "python",
   "nbconvert_exporter": "python",
   "pygments_lexer": "ipython3",
   "version": "3.9.2"
  },
  "orig_nbformat": 4
 },
 "nbformat": 4,
 "nbformat_minor": 2
}
