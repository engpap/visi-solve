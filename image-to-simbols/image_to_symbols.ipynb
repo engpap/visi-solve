{
 "cells": [
  {
   "cell_type": "code",
   "execution_count": 3,
   "id": "b62db0f6",
   "metadata": {},
   "outputs": [
    {
     "data": {
      "image/png": "[encoded data removed]",
      "text/plain": [
       "<Figure size 1000x200 with 17 Axes>"
      ]
     },
     "metadata": {},
     "output_type": "display_data"
    }
   ],
   "source": [
    "import cv2\n",
    "import numpy as np\n",
    "import matplotlib.pyplot as plt\n",
    "\n",
    "\n",
    "\n",
    "image_path = './Eq-processed.png'\n",
    "image = cv2.imread(image_path, 0)\n",
    "image = cv2.GaussianBlur(image, (5, 5), 0)\n",
    "_, binary_image = cv2.threshold(image, 0, 255, cv2.THRESH_BINARY_INV + cv2.THRESH_OTSU)\n",
    "\n",
    "def contours_are_close(c1, c2):\n",
    "    x1, _, w1, _ = cv2.boundingRect(c1)\n",
    "    x2, _, _, _ = cv2.boundingRect(c2)\n",
    "    return x2 - (x1 + w1) < 10  \n",
    "\n",
    "def process_contours(binary_image):\n",
    "    contours, hierarchy = cv2.findContours(binary_image, cv2.RETR_CCOMP, cv2.CHAIN_APPROX_SIMPLE)\n",
    "    merged_contours = [contour for i, contour in enumerate(contours) if hierarchy[0][i][3] == -1]\n",
    "    sorted_contours = sorted(merged_contours, key=lambda ctr: cv2.boundingRect(ctr)[0])\n",
    "    \n",
    "    processed_contours = []\n",
    "    i = 0\n",
    "    while i < len(sorted_contours):\n",
    "        c1 = sorted_contours[i]\n",
    "        if i + 2 < len(sorted_contours):\n",
    "            c2 = sorted_contours[i + 1]\n",
    "            c3 = sorted_contours[i + 2]\n",
    "            if contours_are_close(c1, c2) and contours_are_close(c2, c3):\n",
    "                \n",
    "                x, y, w, h = cv2.boundingRect(np.vstack([c1, c2, c3]))\n",
    "                processed_contours.append(np.array([[[x, y]], [[x + w, y]], [[x + w, y + h]], [[x, y + h]]]))\n",
    "                i += 3\n",
    "                continue\n",
    "\n",
    "        processed_contours.append(c1)\n",
    "        i += 1\n",
    "\n",
    "    return processed_contours\n",
    "\n",
    "def extract_symbols(binary_image, contours):\n",
    "    symbols = []\n",
    "    for contour in contours:\n",
    "        x, y, w, h = cv2.boundingRect(contour)\n",
    "        margin = 5\n",
    "        symbol = binary_image[y-margin:y+h+margin, x-margin:x+w+margin]\n",
    "        symbols.append(symbol)\n",
    "    return symbols\n",
    "\n",
    "def show_symbols(symbols):\n",
    "    plt.figure(figsize=(10, 2))\n",
    "    for i, symbol in enumerate(symbols):\n",
    "        plt.subplot(1, len(symbols), i+1)\n",
    "        plt.imshow(symbol, cmap='gray')\n",
    "        plt.axis('off')\n",
    "    plt.tight_layout()\n",
    "    plt.show()\n",
    "\n",
    "\n",
    "processed_contours = process_contours(binary_image)\n",
    "symbols = extract_symbols(binary_image, processed_contours)\n",
    "\n",
    "show_symbols(symbols)"
   ]
  },
  {
   "cell_type": "code",
   "execution_count": null,
   "id": "70cd32df",
   "metadata": {},
   "outputs": [],
   "source": []
  }
 ],
 "metadata": {
  "kernelspec": {
   "display_name": "Python 3 (ipykernel)",
   "language": "python",
   "name": "python3"
  },
  "language_info": {
   "codemirror_mode": {
    "name": "ipython",
    "version": 3
   },
   "file_extension": ".py",
   "mimetype": "text/x-python",
   "name": "python",
   "nbconvert_exporter": "python",
   "pygments_lexer": "ipython3",
   "version": "3.9.6"
  }
 },
 "nbformat": 4,
 "nbformat_minor": 5
}
