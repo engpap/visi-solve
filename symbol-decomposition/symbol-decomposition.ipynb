{
 "cells": [
  {
   "cell_type": "code",
   "execution_count": 101,
   "metadata": {},
   "outputs": [],
   "source": [
    "import matplotlib.pyplot as plt\n",
    "import numpy as np\n",
    "import copy\n",
    "import cv2\n",
    "from collections import defaultdict "
   ]
  },
  {
   "cell_type": "code",
   "execution_count": 10,
   "metadata": {},
   "outputs": [
    {
     "data": {
      "text/plain": [
       "(-0.5, 348.5, 192.5, -0.5)"
      ]
     },
     "execution_count": 10,
     "metadata": {},
     "output_type": "execute_result"
    },
    {
     "data": {
      "image/png": "[encoded data removed]",
      "text/plain": [
       "<Figure size 432x288 with 1 Axes>"
      ]
     },
     "metadata": {
      "needs_background": "light"
     },
     "output_type": "display_data"
    }
   ],
   "source": [
    "image = cv2.imread('/Users/matteoblack/Desktop/Proj/visi-solve/symbol-decomposition/output.png') \n",
    "\n",
    "canny = cv2.Canny(image, 30, 150, 3) \n",
    "dilated = cv2.dilate(canny, (1, 1), iterations=0) \n",
    "\n",
    "plt.imshow(dilated, cmap='gray') \n",
    "plt.axis('off')"
   ]
  },
  {
   "cell_type": "code",
   "execution_count": 53,
   "metadata": {},
   "outputs": [
    {
     "data": {
      "text/plain": [
       "(-0.5, 348.5, 192.5, -0.5)"
      ]
     },
     "execution_count": 53,
     "metadata": {},
     "output_type": "execute_result"
    },
    {
     "data": {
      "image/png": "[encoded data removed]",
      "text/plain": [
       "<Figure size 432x288 with 1 Axes>"
      ]
     },
     "metadata": {
      "needs_background": "light"
     },
     "output_type": "display_data"
    }
   ],
   "source": [
    "harris = copy.deepcopy(image)\n",
    "\n",
    "tmp = cv2.cvtColor(harris, cv2.COLOR_BGR2GRAY)\n",
    "tmp = np.float32(tmp)\n",
    "\n",
    "dst = cv2.cornerHarris(tmp, 2, 1, 0.0001)\n",
    "dst = cv2.dilate(dst, None)\n",
    "# Threshold for an optimal value, it may vary depending on the image.\n",
    "harris[dst > 0.01 * dst.max()] = [255, 0, 0]\n",
    "X = list()\n",
    "max_value = dst.max()\n",
    "for c in range(dst.shape[0]):\n",
    "    for r in range(dst.shape[1]):\n",
    "        if dst[c, r] > 0.01 * max_value:\n",
    "            X.append([r, c])\n",
    "\n",
    "plt.imshow(harris, cmap='gray') \n",
    "plt.axis('off')"
   ]
  },
  {
   "cell_type": "code",
   "execution_count": 49,
   "metadata": {},
   "outputs": [],
   "source": [
    "import numpy as np\n",
    "\n",
    "from sklearn.cluster import MeanShift, estimate_bandwidth\n"
   ]
  },
  {
   "cell_type": "code",
   "execution_count": 72,
   "metadata": {},
   "outputs": [
    {
     "name": "stdout",
     "output_type": "stream",
     "text": [
      "number of estimated clusters : 4\n"
     ]
    }
   ],
   "source": [
    "\n",
    "# The following bandwidth can be automatically detected using\n",
    "bandwidth = estimate_bandwidth(X, quantile=0.19)\n",
    "\n",
    "ms = MeanShift(bandwidth=bandwidth, bin_seeding=True)\n",
    "ms.fit(X)\n",
    "labels = ms.labels_\n",
    "cluster_centers = ms.cluster_centers_\n",
    "\n",
    "labels_unique = np.unique(labels)\n",
    "n_clusters_ = len(labels_unique)\n",
    "\n",
    "print(\"number of estimated clusters : %d\" % n_clusters_)\n"
   ]
  },
  {
   "cell_type": "code",
   "execution_count": 120,
   "metadata": {},
   "outputs": [
    {
     "data": {
      "text/plain": [
       "(-0.5, 348.5, 192.5, -0.5)"
      ]
     },
     "execution_count": 120,
     "metadata": {},
     "output_type": "execute_result"
    },
    {
     "data": {
      "image/png": "[encoded data removed]",
      "text/plain": [
       "<Figure size 432x288 with 1 Axes>"
      ]
     },
     "metadata": {
      "needs_background": "light"
     },
     "output_type": "display_data"
    }
   ],
   "source": [
    "clustering = copy.deepcopy(image)\n",
    "X = np.array(X)\n",
    "plt.imshow(clustering, cmap='gray') \n",
    "clusters = defaultdict(list)\n",
    "for k in range(n_clusters_):\n",
    "    my_members = labels == k\n",
    "    clusters[int(cluster_centers[k][0])] = X[my_members]\n",
    "    plt.plot(X[my_members, 0], X[my_members, 1], marker='o', markersize=1)\n",
    "    plt.plot(int(cluster_centers[k][0]), int(cluster_centers[k][1]), marker='o', markersize=5)\n",
    "plt.axis('off')"
   ]
  },
  {
   "cell_type": "code",
   "execution_count": 126,
   "metadata": {},
   "outputs": [
    {
     "data": {
      "text/plain": [
       "(-0.5, 348.5, 192.5, -0.5)"
      ]
     },
     "execution_count": 126,
     "metadata": {},
     "output_type": "execute_result"
    },
    {
     "data": {
      "image/png": "[encoded data removed]",
      "text/plain": [
       "<Figure size 432x288 with 1 Axes>"
      ]
     },
     "metadata": {
      "needs_background": "light"
     },
     "output_type": "display_data"
    }
   ],
   "source": [
    "final = copy.deepcopy(image)\n",
    "\n",
    "plt.imshow(clustering, cmap='gray') \n",
    "\n",
    "keys = sorted(clusters.keys())\n",
    "for i in range(len(keys) - 1):\n",
    "    max_val = max(clusters[keys[i]][:, 0])\n",
    "    min_val = min(clusters[keys[i + 1]][:, 0])\n",
    "    avg = (max_val + min_val) // 2\n",
    "    plt.plot([avg for _ in range(image.shape[0])], np.arange(0, image.shape[0]))\n",
    "\n",
    "plt.axis('off')"
   ]
  }
 ],
 "metadata": {
  "kernelspec": {
   "display_name": "cs415env",
   "language": "python",
   "name": "python3"
  },
  "language_info": {
   "codemirror_mode": {
    "name": "ipython",
    "version": 3
   },
   "file_extension": ".py",
   "mimetype": "text/x-python",
   "name": "python",
   "nbconvert_exporter": "python",
   "pygments_lexer": "ipython3",
   "version": "3.11.4"
  }
 },
 "nbformat": 4,
 "nbformat_minor": 2
}
